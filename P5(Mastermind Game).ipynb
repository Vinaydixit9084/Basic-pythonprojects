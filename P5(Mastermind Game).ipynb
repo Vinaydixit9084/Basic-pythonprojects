{
 "cells": [
  {
   "cell_type": "code",
   "execution_count": 1,
   "id": "3de82ef5-3803-42d3-bd44-a57dbe16515a",
   "metadata": {},
   "outputs": [
    {
     "name": "stdout",
     "output_type": "stream",
     "text": [
      "Welcome to Mastermind!\n",
      "Try to guess the 4-digit code. Each digit is between 1 and 6.\n",
      "Feedback: Black pegs mean correct digit and position; White pegs mean correct digit but wrong position.\n"
     ]
    },
    {
     "name": "stdin",
     "output_type": "stream",
     "text": [
      "Attempt 1/10 - Enter your guess (4 digits):  3456\n"
     ]
    },
    {
     "name": "stdout",
     "output_type": "stream",
     "text": [
      "Feedback: 1 Black Peg(s), 2 White Peg(s)\n"
     ]
    },
    {
     "name": "stdin",
     "output_type": "stream",
     "text": [
      "Attempt 2/10 - Enter your guess (4 digits):  1245\n"
     ]
    },
    {
     "name": "stdout",
     "output_type": "stream",
     "text": [
      "Feedback: 0 Black Peg(s), 3 White Peg(s)\n"
     ]
    },
    {
     "name": "stdin",
     "output_type": "stream",
     "text": [
      "Attempt 3/10 - Enter your guess (4 digits):  1234\n"
     ]
    },
    {
     "name": "stdout",
     "output_type": "stream",
     "text": [
      "Feedback: 0 Black Peg(s), 3 White Peg(s)\n"
     ]
    },
    {
     "name": "stdin",
     "output_type": "stream",
     "text": [
      "Attempt 4/10 - Enter your guess (4 digits):  6345\n"
     ]
    },
    {
     "name": "stdout",
     "output_type": "stream",
     "text": [
      "Feedback: 0 Black Peg(s), 3 White Peg(s)\n"
     ]
    },
    {
     "name": "stdin",
     "output_type": "stream",
     "text": [
      "Attempt 5/10 - Enter your guess (4 digits):  3521\n"
     ]
    },
    {
     "name": "stdout",
     "output_type": "stream",
     "text": [
      "Feedback: 0 Black Peg(s), 3 White Peg(s)\n"
     ]
    },
    {
     "name": "stdin",
     "output_type": "stream",
     "text": [
      "Attempt 6/10 - Enter your guess (4 digits):  5436\n"
     ]
    },
    {
     "name": "stdout",
     "output_type": "stream",
     "text": [
      "Feedback: 2 Black Peg(s), 1 White Peg(s)\n"
     ]
    },
    {
     "name": "stdin",
     "output_type": "stream",
     "text": [
      "Attempt 7/10 - Enter your guess (4 digits):  5412\n"
     ]
    },
    {
     "name": "stdout",
     "output_type": "stream",
     "text": [
      "Feedback: 3 Black Peg(s), 0 White Peg(s)\n"
     ]
    },
    {
     "name": "stdin",
     "output_type": "stream",
     "text": [
      "Attempt 8/10 - Enter your guess (4 digits):  5413\n"
     ]
    },
    {
     "name": "stdout",
     "output_type": "stream",
     "text": [
      "Feedback: 4 Black Peg(s), 0 White Peg(s)\n",
      "Congratulations! You've cracked the code [5, 4, 1, 3] in 8 attempt(s)!\n"
     ]
    }
   ],
   "source": [
    "import random\n",
    "\n",
    "def generate_code():\n",
    "    \"\"\"Generates a 4-digit secret code with digits from 1 to 6.\"\"\"\n",
    "    return [random.randint(1, 6) for _ in range(4)]\n",
    "\n",
    "def get_feedback(code, guess):\n",
    "    \"\"\"Provides feedback in terms of black and white pegs.\"\"\"\n",
    "    black_pegs = sum([1 for i in range(4) if code[i] == guess[i]])\n",
    "    white_pegs = sum(min(code.count(n), guess.count(n)) for n in set(guess)) - black_pegs\n",
    "    return black_pegs, white_pegs\n",
    "\n",
    "def mastermind():\n",
    "    print(\"Welcome to Mastermind!\")\n",
    "    print(\"Try to guess the 4-digit code. Each digit is between 1 and 6.\")\n",
    "    print(\"Feedback: Black pegs mean correct digit and position; White pegs mean correct digit but wrong position.\")\n",
    "    \n",
    "    code = generate_code()\n",
    "    attempts = 10\n",
    "    \n",
    "    for attempt in range(1, attempts + 1):\n",
    "        while True:\n",
    "            try:\n",
    "                guess = list(map(int, input(f\"Attempt {attempt}/{attempts} - Enter your guess (4 digits): \")))\n",
    "                if len(guess) == 4 and all(1 <= digit <= 6 for digit in guess):\n",
    "                    break\n",
    "                else:\n",
    "                    print(\"Invalid guess. Make sure to enter 4 digits between 1 and 6.\")\n",
    "            except ValueError:\n",
    "                print(\"Invalid input. Please enter numbers only.\")\n",
    "        \n",
    "        black_pegs, white_pegs = get_feedback(code, guess)\n",
    "        print(f\"Feedback: {black_pegs} Black Peg(s), {white_pegs} White Peg(s)\")\n",
    "        \n",
    "        if black_pegs == 4:\n",
    "            print(f\"Congratulations! You've cracked the code {code} in {attempt} attempt(s)!\")\n",
    "            return\n",
    "        \n",
    "    print(f\"Sorry, you've run out of attempts. The code was {code}.\")\n",
    "\n",
    "# Run the game\n",
    "mastermind()\n"
   ]
  },
  {
   "cell_type": "code",
   "execution_count": null,
   "id": "ddcb1a9c-c09c-4ff5-8a52-4751ef552e0b",
   "metadata": {},
   "outputs": [],
   "source": []
  }
 ],
 "metadata": {
  "kernelspec": {
   "display_name": "Python 3 (ipykernel)",
   "language": "python",
   "name": "python3"
  },
  "language_info": {
   "codemirror_mode": {
    "name": "ipython",
    "version": 3
   },
   "file_extension": ".py",
   "mimetype": "text/x-python",
   "name": "python",
   "nbconvert_exporter": "python",
   "pygments_lexer": "ipython3",
   "version": "3.12.4"
  }
 },
 "nbformat": 4,
 "nbformat_minor": 5
}
