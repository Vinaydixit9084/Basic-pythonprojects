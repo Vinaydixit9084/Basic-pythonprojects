{
 "cells": [
  {
   "cell_type": "code",
   "execution_count": 2,
   "id": "7b7db0ee-9eba-48dd-b4d0-f3aedc874da9",
   "metadata": {},
   "outputs": [
    {
     "name": "stdin",
     "output_type": "stream",
     "text": [
      "Enter the first name:  Harry\n",
      "Enter the second name:  Potter\n"
     ]
    },
    {
     "name": "stdout",
     "output_type": "stream",
     "text": [
      "The relationship between Harry and Potter is: Enemies\n"
     ]
    }
   ],
   "source": [
    "def remove_common_chars(name1, name2):\n",
    "    \"\"\"Remove common characters between the two names and return the reduced lengths.\"\"\"\n",
    "    list1 = list(name1)\n",
    "    list2 = list(name2)\n",
    "    \n",
    "    # Remove common characters\n",
    "    for char in list1[:]:\n",
    "        if char in list2:\n",
    "            list1.remove(char)\n",
    "            list2.remove(char)\n",
    "    \n",
    "    # Return the count of remaining characters\n",
    "    return len(list1) + len(list2)\n",
    "\n",
    "def flames_game(name1, name2):\n",
    "    \"\"\"Calculates the FLAMES relationship based on two names.\"\"\"\n",
    "    # Normalize names by removing spaces and converting to lowercase\n",
    "    name1 = name1.replace(\" \", \"\").lower()\n",
    "    name2 = name2.replace(\" \", \"\").lower()\n",
    "\n",
    "    # Remove common characters and calculate total remaining length\n",
    "    remaining_length = remove_common_chars(name1, name2)\n",
    "    \n",
    "    \n",
    "    flames = [\"Friends\", \"Lovers\", \"Affectionate\", \"Marriage\", \"Enemies\", \"Siblings\"]\n",
    "    \n",
    "    # Find relationship by eliminating items in FLAMES based on remaining length\n",
    "    while len(flames) > 1:\n",
    "        split_index = (remaining_length % len(flames)) - 1\n",
    "        if split_index >= 0:\n",
    "            # Rotate the list to start from the next element after split\n",
    "            flames = flames[split_index + 1:] + flames[:split_index]\n",
    "        else:\n",
    "            flames = flames[:len(flames) - 1]\n",
    "    \n",
    "    # Return the final relationship\n",
    "    return flames[0]\n",
    "\n",
    "# Input names\n",
    "name1 = input(\"Enter the first name: \")\n",
    "name2 = input(\"Enter the second name: \")\n",
    "\n",
    "# Run the FLAMES game\n",
    "result = flames_game(name1, name2)\n",
    "\n",
    "print(f\"The relationship between {name1} and {name2} is: {result}\")\n"
   ]
  },
  {
   "cell_type": "code",
   "execution_count": null,
   "id": "05e68356-84fc-42cf-a96e-581906c7d825",
   "metadata": {},
   "outputs": [],
   "source": []
  }
 ],
 "metadata": {
  "kernelspec": {
   "display_name": "Python 3 (ipykernel)",
   "language": "python",
   "name": "python3"
  },
  "language_info": {
   "codemirror_mode": {
    "name": "ipython",
    "version": 3
   },
   "file_extension": ".py",
   "mimetype": "text/x-python",
   "name": "python",
   "nbconvert_exporter": "python",
   "pygments_lexer": "ipython3",
   "version": "3.12.4"
  }
 },
 "nbformat": 4,
 "nbformat_minor": 5
}
