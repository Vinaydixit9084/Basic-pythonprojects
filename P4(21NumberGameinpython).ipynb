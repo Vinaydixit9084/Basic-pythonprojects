{
 "cells": [
  {
   "cell_type": "code",
   "execution_count": 2,
   "id": "6371505d-663d-4f74-9cbe-91af2ce3a109",
   "metadata": {},
   "outputs": [
    {
     "name": "stdout",
     "output_type": "stream",
     "text": [
      "Welcome to the 21 Number Game!\n",
      "Rules:\n",
      "1. Players take turns saying 1 to 3 consecutive numbers.\n",
      "2. The player who says '21' loses.\n",
      "Let's start!\n",
      "\n",
      "\n",
      "Current number is: 1\n"
     ]
    },
    {
     "name": "stdin",
     "output_type": "stream",
     "text": [
      "Player 1, how many numbers do you want to say (1, 2, or 3)?  1\n"
     ]
    },
    {
     "name": "stdout",
     "output_type": "stream",
     "text": [
      "Player 1 says: 1\n",
      "\n",
      "Current number is: 2\n"
     ]
    },
    {
     "name": "stdin",
     "output_type": "stream",
     "text": [
      "Player 2, how many numbers do you want to say (1, 2, or 3)?  3\n"
     ]
    },
    {
     "name": "stdout",
     "output_type": "stream",
     "text": [
      "Player 2 says: 2\n",
      "Player 2 says: 3\n",
      "Player 2 says: 4\n",
      "\n",
      "Current number is: 5\n"
     ]
    },
    {
     "name": "stdin",
     "output_type": "stream",
     "text": [
      "Player 1, how many numbers do you want to say (1, 2, or 3)?  3\n"
     ]
    },
    {
     "name": "stdout",
     "output_type": "stream",
     "text": [
      "Player 1 says: 5\n",
      "Player 1 says: 6\n",
      "Player 1 says: 7\n",
      "\n",
      "Current number is: 8\n"
     ]
    },
    {
     "name": "stdin",
     "output_type": "stream",
     "text": [
      "Player 2, how many numbers do you want to say (1, 2, or 3)?  3\n"
     ]
    },
    {
     "name": "stdout",
     "output_type": "stream",
     "text": [
      "Player 2 says: 8\n",
      "Player 2 says: 9\n",
      "Player 2 says: 10\n",
      "\n",
      "Current number is: 11\n"
     ]
    },
    {
     "name": "stdin",
     "output_type": "stream",
     "text": [
      "Player 1, how many numbers do you want to say (1, 2, or 3)?  2\n"
     ]
    },
    {
     "name": "stdout",
     "output_type": "stream",
     "text": [
      "Player 1 says: 11\n",
      "Player 1 says: 12\n",
      "\n",
      "Current number is: 13\n"
     ]
    },
    {
     "name": "stdin",
     "output_type": "stream",
     "text": [
      "Player 2, how many numbers do you want to say (1, 2, or 3)?  3\n"
     ]
    },
    {
     "name": "stdout",
     "output_type": "stream",
     "text": [
      "Player 2 says: 13\n",
      "Player 2 says: 14\n",
      "Player 2 says: 15\n",
      "\n",
      "Current number is: 16\n"
     ]
    },
    {
     "name": "stdin",
     "output_type": "stream",
     "text": [
      "Player 1, how many numbers do you want to say (1, 2, or 3)?  3\n"
     ]
    },
    {
     "name": "stdout",
     "output_type": "stream",
     "text": [
      "Player 1 says: 16\n",
      "Player 1 says: 17\n",
      "Player 1 says: 18\n",
      "\n",
      "Current number is: 19\n"
     ]
    },
    {
     "name": "stdin",
     "output_type": "stream",
     "text": [
      "Player 2, how many numbers do you want to say (1, 2, or 3)?  2\n"
     ]
    },
    {
     "name": "stdout",
     "output_type": "stream",
     "text": [
      "Player 2 says: 19\n",
      "Player 2 says: 20\n",
      "\n",
      "Current number is: 21\n"
     ]
    },
    {
     "name": "stdin",
     "output_type": "stream",
     "text": [
      "Player 1, how many numbers do you want to say (1, 2, or 3)?  1\n"
     ]
    },
    {
     "name": "stdout",
     "output_type": "stream",
     "text": [
      "Player 1 says: 21\n",
      "Player 1 loses! You said '21'.\n"
     ]
    },
    {
     "ename": "SystemExit",
     "evalue": "",
     "output_type": "error",
     "traceback": [
      "An exception has occurred, use %tb to see the full traceback.\n",
      "\u001b[1;31mSystemExit\u001b[0m\n"
     ]
    }
   ],
   "source": [
    "import sys\n",
    "\n",
    "print(\"Welcome to the 21 Number Game!\")\n",
    "print(\"Rules:\")\n",
    "print(\"1. Players take turns saying 1 to 3 consecutive numbers.\")\n",
    "print(\"2. The player who says '21' loses.\")\n",
    "print(\"Let's start!\\n\")\n",
    "\n",
    "current_number = 1\n",
    "max_number = 21\n",
    "\n",
    "# Start the game loop\n",
    "while current_number <= max_number:\n",
    "    # Player 1's turn\n",
    "    print(f\"\\nCurrent number is: {current_number}\")\n",
    "    try:\n",
    "        player_choice = int(input(\"Player 1, how many numbers do you want to say (1, 2, or 3)? \"))\n",
    "        if player_choice not in [1, 2, 3]:\n",
    "            print(\"Invalid choice. Please enter 1, 2, or 3.\")\n",
    "            continue\n",
    "    except ValueError:\n",
    "        print(\"Please enter a valid number (1, 2, or 3).\")\n",
    "        continue\n",
    "\n",
    "    # Display the numbers Player 1 says\n",
    "    for i in range(player_choice):\n",
    "        print(\"Player 1 says:\", current_number)\n",
    "        current_number += 1\n",
    "        if current_number > max_number:\n",
    "            print(\"Player 1 loses! You said '21'.\")\n",
    "            sys.exit()\n",
    "\n",
    "    # Player 2's turn\n",
    "    print(f\"\\nCurrent number is: {current_number}\")\n",
    "    try:\n",
    "        player_choice = int(input(\"Player 2, how many numbers do you want to say (1, 2, or 3)? \"))\n",
    "        if player_choice not in [1, 2, 3]:\n",
    "            print(\"Invalid choice. Please enter 1, 2, or 3.\")\n",
    "            continue\n",
    "    except ValueError:\n",
    "        print(\"Please enter a valid number (1, 2, or 3).\")\n",
    "        continue\n",
    "\n",
    "    # Display the numbers Player 2 says\n",
    "    for i in range(player_choice):\n",
    "        print(\"Player 2 says:\", current_number)\n",
    "        current_number += 1\n",
    "        if current_number > max_number:\n",
    "            print(\"Player 2 loses! You said '21'.\")\n",
    "            sys.exit()\n"
   ]
  },
  {
   "cell_type": "code",
   "execution_count": null,
   "id": "33610b61-ca10-4b8e-8e67-91f0dfd50644",
   "metadata": {},
   "outputs": [],
   "source": []
  }
 ],
 "metadata": {
  "kernelspec": {
   "display_name": "Python 3 (ipykernel)",
   "language": "python",
   "name": "python3"
  },
  "language_info": {
   "codemirror_mode": {
    "name": "ipython",
    "version": 3
   },
   "file_extension": ".py",
   "mimetype": "text/x-python",
   "name": "python",
   "nbconvert_exporter": "python",
   "pygments_lexer": "ipython3",
   "version": "3.12.4"
  }
 },
 "nbformat": 4,
 "nbformat_minor": 5
}
