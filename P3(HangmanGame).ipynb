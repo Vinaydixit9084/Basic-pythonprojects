{
 "cells": [
  {
   "cell_type": "code",
   "execution_count": 1,
   "id": "80e0fd4e-4715-4d98-9416-f3c7edeca89a",
   "metadata": {},
   "outputs": [
    {
     "name": "stdout",
     "output_type": "stream",
     "text": [
      "Welcome to Hangman!\n",
      "Guess the word: _ _ _ _\n",
      "You have 6 attempts remaining.\n"
     ]
    },
    {
     "name": "stdin",
     "output_type": "stream",
     "text": [
      "Enter a letter:  p\n"
     ]
    },
    {
     "name": "stdout",
     "output_type": "stream",
     "text": [
      "Sorry, that letter is not in the word. You have 5 attempts remaining.\n",
      "Current word: _ _ _ _\n"
     ]
    },
    {
     "name": "stdin",
     "output_type": "stream",
     "text": [
      "Enter a letter:  h\n"
     ]
    },
    {
     "name": "stdout",
     "output_type": "stream",
     "text": [
      "Sorry, that letter is not in the word. You have 4 attempts remaining.\n",
      "Current word: _ _ _ _\n"
     ]
    },
    {
     "name": "stdin",
     "output_type": "stream",
     "text": [
      "Enter a letter:  j\n"
     ]
    },
    {
     "name": "stdout",
     "output_type": "stream",
     "text": [
      "Good job! That letter is in the word.\n",
      "Current word: j _ _ _\n"
     ]
    },
    {
     "name": "stdin",
     "output_type": "stream",
     "text": [
      "Enter a letter:  a\n"
     ]
    },
    {
     "name": "stdout",
     "output_type": "stream",
     "text": [
      "Good job! That letter is in the word.\n",
      "Current word: j a _ a\n"
     ]
    },
    {
     "name": "stdin",
     "output_type": "stream",
     "text": [
      "Enter a letter:  v\n"
     ]
    },
    {
     "name": "stdout",
     "output_type": "stream",
     "text": [
      "Good job! That letter is in the word.\n",
      "Current word: j a v a\n",
      "Congratulations! You've guessed the word: java\n"
     ]
    }
   ],
   "source": [
    "import random\n",
    "\n",
    "# List of words for the game\n",
    "words = [\"python\", \"java\", \"ruby\", \"javascript\", \"kotlin\", \"hangman\"]\n",
    "# Select a random word from the list\n",
    "word_to_guess = random.choice(words)\n",
    "\n",
    "# Initialize game variables\n",
    "guessed_word = [\"_\"] * len(word_to_guess)\n",
    "attempts = 6\n",
    "guessed_letters = set()\n",
    "\n",
    "print(\"Welcome to Hangman!\")\n",
    "print(\"Guess the word:\", \" \".join(guessed_word))\n",
    "print(f\"You have {attempts} attempts remaining.\")\n",
    "\n",
    "# Game loop\n",
    "while attempts > 0:\n",
    "    # Take input from the player\n",
    "    guess = input(\"Enter a letter: \").lower()\n",
    "\n",
    "    # Check if letter was already guessed\n",
    "    if guess in guessed_letters:\n",
    "        print(\"You've already guessed that letter. Try a different one.\")\n",
    "        continue\n",
    "\n",
    "    # Add the guessed letter to the set of guessed letters\n",
    "    guessed_letters.add(guess)\n",
    "\n",
    "    # Check if the guess is correct\n",
    "    if guess in word_to_guess:\n",
    "        print(\"Good job! That letter is in the word.\")\n",
    "        # Reveal the guessed letter in the correct positions\n",
    "        for index, letter in enumerate(word_to_guess):\n",
    "            if letter == guess:\n",
    "                guessed_word[index] = guess\n",
    "    else:\n",
    "        attempts -= 1\n",
    "        print(f\"Sorry, that letter is not in the word. You have {attempts} attempts remaining.\")\n",
    "\n",
    "    # Show the current state of the guessed word\n",
    "    print(\"Current word:\", \" \".join(guessed_word))\n",
    "\n",
    "    # Check if the player has guessed the entire word\n",
    "    if \"_\" not in guessed_word:\n",
    "        print(\"Congratulations! You've guessed the word:\", word_to_guess)\n",
    "        break\n",
    "else:\n",
    "    print(f\"Out of attempts! The word was: {word_to_guess}\")\n"
   ]
  },
  {
   "cell_type": "code",
   "execution_count": null,
   "id": "f6dfb5cc-99cf-47a8-b636-29584565e5a1",
   "metadata": {},
   "outputs": [],
   "source": []
  }
 ],
 "metadata": {
  "kernelspec": {
   "display_name": "Python 3 (ipykernel)",
   "language": "python",
   "name": "python3"
  },
  "language_info": {
   "codemirror_mode": {
    "name": "ipython",
    "version": 3
   },
   "file_extension": ".py",
   "mimetype": "text/x-python",
   "name": "python",
   "nbconvert_exporter": "python",
   "pygments_lexer": "ipython3",
   "version": "3.12.4"
  }
 },
 "nbformat": 4,
 "nbformat_minor": 5
}
