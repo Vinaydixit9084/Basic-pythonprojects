{
 "cells": [
  {
   "cell_type": "markdown",
   "id": "87ea180f-3138-4fcc-b6f4-10eb6cd1dfd2",
   "metadata": {},
   "source": [
    "Word Guessing Game"
   ]
  },
  {
   "cell_type": "code",
   "execution_count": 3,
   "id": "f9ad9f45-2a7d-46a0-a14e-ca4b0d078f62",
   "metadata": {},
   "outputs": [
    {
     "name": "stdout",
     "output_type": "stream",
     "text": [
      "Welcome to the Word Guessing Game!\n",
      "Guess the word: _ _ _ _ _ _ _ _ _ _\n"
     ]
    },
    {
     "name": "stdin",
     "output_type": "stream",
     "text": [
      "Enter a letter:  k\n"
     ]
    },
    {
     "name": "stdout",
     "output_type": "stream",
     "text": [
      "Wrong guess! You have 5 attempts left.\n",
      "Current word: _ _ _ _ _ _ _ _ _ _\n"
     ]
    },
    {
     "name": "stdin",
     "output_type": "stream",
     "text": [
      "Enter a letter:  kotlin\n"
     ]
    },
    {
     "name": "stdout",
     "output_type": "stream",
     "text": [
      "Wrong guess! You have 4 attempts left.\n",
      "Current word: _ _ _ _ _ _ _ _ _ _\n"
     ]
    },
    {
     "name": "stdin",
     "output_type": "stream",
     "text": [
      "Enter a letter:  j\n"
     ]
    },
    {
     "name": "stdout",
     "output_type": "stream",
     "text": [
      "Good job! You guessed a letter.\n",
      "Current word: j _ _ _ _ _ _ _ _ _\n"
     ]
    },
    {
     "name": "stdin",
     "output_type": "stream",
     "text": [
      "Enter a letter:  javascript\n"
     ]
    },
    {
     "name": "stdout",
     "output_type": "stream",
     "text": [
      "Good job! You guessed a letter.\n",
      "Current word: j _ _ _ _ _ _ _ _ _\n"
     ]
    },
    {
     "name": "stdin",
     "output_type": "stream",
     "text": [
      "Enter a letter:  java\n"
     ]
    },
    {
     "name": "stdout",
     "output_type": "stream",
     "text": [
      "Good job! You guessed a letter.\n",
      "Current word: j _ _ _ _ _ _ _ _ _\n"
     ]
    },
    {
     "name": "stdin",
     "output_type": "stream",
     "text": [
      "Enter a letter:  a\n"
     ]
    },
    {
     "name": "stdout",
     "output_type": "stream",
     "text": [
      "Good job! You guessed a letter.\n",
      "Current word: j a _ a _ _ _ _ _ _\n"
     ]
    },
    {
     "name": "stdin",
     "output_type": "stream",
     "text": [
      "Enter a letter:  v\n"
     ]
    },
    {
     "name": "stdout",
     "output_type": "stream",
     "text": [
      "Good job! You guessed a letter.\n",
      "Current word: j a v a _ _ _ _ _ _\n"
     ]
    },
    {
     "name": "stdin",
     "output_type": "stream",
     "text": [
      "Enter a letter:  s\n"
     ]
    },
    {
     "name": "stdout",
     "output_type": "stream",
     "text": [
      "Good job! You guessed a letter.\n",
      "Current word: j a v a s _ _ _ _ _\n"
     ]
    },
    {
     "name": "stdin",
     "output_type": "stream",
     "text": [
      "Enter a letter:  c\n"
     ]
    },
    {
     "name": "stdout",
     "output_type": "stream",
     "text": [
      "Good job! You guessed a letter.\n",
      "Current word: j a v a s c _ _ _ _\n"
     ]
    },
    {
     "name": "stdin",
     "output_type": "stream",
     "text": [
      "Enter a letter:  r\n"
     ]
    },
    {
     "name": "stdout",
     "output_type": "stream",
     "text": [
      "Good job! You guessed a letter.\n",
      "Current word: j a v a s c r _ _ _\n"
     ]
    },
    {
     "name": "stdin",
     "output_type": "stream",
     "text": [
      "Enter a letter:  i\n"
     ]
    },
    {
     "name": "stdout",
     "output_type": "stream",
     "text": [
      "Good job! You guessed a letter.\n",
      "Current word: j a v a s c r i _ _\n"
     ]
    },
    {
     "name": "stdin",
     "output_type": "stream",
     "text": [
      "Enter a letter:  p\n"
     ]
    },
    {
     "name": "stdout",
     "output_type": "stream",
     "text": [
      "Good job! You guessed a letter.\n",
      "Current word: j a v a s c r i p _\n"
     ]
    },
    {
     "name": "stdin",
     "output_type": "stream",
     "text": [
      "Enter a letter:  t\n"
     ]
    },
    {
     "name": "stdout",
     "output_type": "stream",
     "text": [
      "Good job! You guessed a letter.\n",
      "Current word: j a v a s c r i p t\n",
      "Congratulations! You've guessed the word: javascript\n"
     ]
    }
   ],
   "source": [
    "import random\n",
    "\n",
    "# List of words for the game\n",
    "words = [\"python\", \"java\", \"ruby\", \"javascript\", \"kotlin\"]\n",
    "# Select a random word from the list\n",
    "word_to_guess = random.choice(words)\n",
    "\n",
    "# Initialize variables\n",
    "guessed_word = [\"_\"] * len(word_to_guess)  \n",
    "attempts = 6  # Number of allowed incorrect guesses\n",
    "guessed_letters = set()  # Track guessed letters\n",
    "\n",
    "print(\"Welcome to the Word Guessing Game!\")\n",
    "print(\"Guess the word:\", \" \".join(guessed_word))\n",
    "\n",
    "# Game loop\n",
    "while attempts > 0:\n",
    "    guess = input(\"Enter a letter: \").lower()\n",
    "\n",
    "    # Check if letter was already guessed\n",
    "    if guess in guessed_letters:\n",
    "        print(\"You already guessed that letter. Try another.\")\n",
    "        continue\n",
    "\n",
    "    # Add the guessed letter to the set of guessed letters\n",
    "    guessed_letters.add(guess)\n",
    "\n",
    "    # Check if the guess is correct\n",
    "    if guess in word_to_guess:\n",
    "        print(\"Good job! You guessed a letter.\")\n",
    "        # Reveal the guessed letter in the correct positions\n",
    "        for index, letter in enumerate(word_to_guess):\n",
    "            if letter == guess:\n",
    "                guessed_word[index] = guess\n",
    "    else:\n",
    "        attempts -= 1\n",
    "        print(f\"Wrong guess! You have {attempts} attempts left.\")\n",
    "\n",
    "    \n",
    "    print(\"Current word:\", \" \".join(guessed_word))\n",
    "\n",
    "    # Check if the player has guessed the entire word\n",
    "    if \"_\" not in guessed_word:\n",
    "        print(\"Congratulations! You've guessed the word:\", word_to_guess)\n",
    "        break\n",
    "else:\n",
    "    print(f\"Game over! The word was: {word_to_guess}\")\n",
    " "
   ]
  },
  {
   "cell_type": "code",
   "execution_count": null,
   "id": "dd05dd6d-dc95-4bbe-b096-cc914fe89627",
   "metadata": {},
   "outputs": [],
   "source": []
  }
 ],
 "metadata": {
  "kernelspec": {
   "display_name": "Python 3 (ipykernel)",
   "language": "python",
   "name": "python3"
  },
  "language_info": {
   "codemirror_mode": {
    "name": "ipython",
    "version": 3
   },
   "file_extension": ".py",
   "mimetype": "text/x-python",
   "name": "python",
   "nbconvert_exporter": "python",
   "pygments_lexer": "ipython3",
   "version": "3.12.4"
  }
 },
 "nbformat": 4,
 "nbformat_minor": 5
}
