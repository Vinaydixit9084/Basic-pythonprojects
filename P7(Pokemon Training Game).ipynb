{
 "cells": [
  {
   "cell_type": "code",
   "execution_count": 2,
   "id": "4a409410-60b8-4976-8bf6-5a5b3597af94",
   "metadata": {},
   "outputs": [
    {
     "name": "stdout",
     "output_type": "stream",
     "text": [
      "Welcome to the Pokémon Training Game!\n",
      "Choose your Pokémon:\n",
      "1. Pikachu (Electric)\n",
      "2. Charmander (Fire)\n",
      "3. Bulbasaur (Grass)\n",
      "4. Squirtle (Water)\n"
     ]
    },
    {
     "name": "stdin",
     "output_type": "stream",
     "text": [
      "Enter the number of your choice:  1\n"
     ]
    },
    {
     "name": "stdout",
     "output_type": "stream",
     "text": [
      "You chose Pikachu!\n",
      "\n",
      "\n",
      "A wild Charmander appears!\n"
     ]
    },
    {
     "name": "stdin",
     "output_type": "stream",
     "text": [
      "\n",
      "Press Enter to attack! pokemon1\n"
     ]
    },
    {
     "name": "stdout",
     "output_type": "stream",
     "text": [
      "Pikachu attacks Charmander for 28 damage!\n",
      "Charmander attacks Pikachu for 18 damage!\n"
     ]
    },
    {
     "name": "stdin",
     "output_type": "stream",
     "text": [
      "\n",
      "Press Enter to attack! 2\n"
     ]
    },
    {
     "name": "stdout",
     "output_type": "stream",
     "text": [
      "Pikachu attacks Charmander for 28 damage!\n",
      "Charmander attacks Pikachu for 30 damage!\n"
     ]
    },
    {
     "name": "stdin",
     "output_type": "stream",
     "text": [
      "\n",
      "Press Enter to attack! 3\n"
     ]
    },
    {
     "name": "stdout",
     "output_type": "stream",
     "text": [
      "Pikachu attacks Charmander for 25 damage!\n",
      "Charmander attacks Pikachu for 15 damage!\n"
     ]
    },
    {
     "name": "stdin",
     "output_type": "stream",
     "text": [
      "\n",
      "Press Enter to attack! 5\n"
     ]
    },
    {
     "name": "stdout",
     "output_type": "stream",
     "text": [
      "Pikachu attacks Charmander for 27 damage!\n",
      "Charmander is knocked out!\n",
      "Pikachu gains 50 experience points!\n"
     ]
    },
    {
     "name": "stdin",
     "output_type": "stream",
     "text": [
      "Do you want to battle again? (yes/no):  no\n"
     ]
    },
    {
     "name": "stdout",
     "output_type": "stream",
     "text": [
      "Thanks for playing! See you next time!\n"
     ]
    }
   ],
   "source": [
    "import random\n",
    "\n",
    "# Define a class for Pokémon\n",
    "class Pokemon:\n",
    "    def __init__(self, name, type_, health=100, level=1):\n",
    "        self.name = name\n",
    "        self.type = type_\n",
    "        self.health = health\n",
    "        self.level = level\n",
    "        self.experience = 0\n",
    "\n",
    "    def attack(self, opponent):\n",
    "        # Calculate attack damage randomly\n",
    "        attack_damage = random.randint(10, 30)\n",
    "        print(f\"{self.name} attacks {opponent.name} for {attack_damage} damage!\")\n",
    "        opponent.health -= attack_damage\n",
    "        return attack_damage\n",
    "\n",
    "    def gain_experience(self, amount):\n",
    "        print(f\"{self.name} gains {amount} experience points!\")\n",
    "        self.experience += amount\n",
    "        # Level up every 100 experience points\n",
    "        while self.experience >= 100:\n",
    "            self.experience -= 100\n",
    "            self.level_up()\n",
    "\n",
    "    def level_up(self):\n",
    "        self.level += 1\n",
    "        self.health += 20  # Increase health with each level\n",
    "        print(f\"{self.name} leveled up to Level {self.level}! Health is now {self.health}.\")\n",
    "\n",
    "    def is_knocked_out(self):\n",
    "        return self.health <= 0\n",
    "\n",
    "\n",
    "# Define a battle function\n",
    "def battle(pokemon1, pokemon2):\n",
    "    print(f\"\\nA wild {pokemon2.name} appears!\")\n",
    "    while pokemon1.health > 0 and pokemon2.health > 0:\n",
    "        input(\"\\nPress Enter to attack!\")\n",
    "        damage = pokemon1.attack(pokemon2)\n",
    "        \n",
    "        if pokemon2.is_knocked_out():\n",
    "            print(f\"{pokemon2.name} is knocked out!\")\n",
    "            pokemon1.gain_experience(50)\n",
    "            break\n",
    "\n",
    "        # Opponent attacks back\n",
    "        damage = pokemon2.attack(pokemon1)\n",
    "        if pokemon1.is_knocked_out():\n",
    "            print(f\"{pokemon1.name} is knocked out! Game over.\")\n",
    "            break\n",
    "\n",
    "# Pokémon options\n",
    "pokedex = [\n",
    "    Pokemon(\"Pikachu\", \"Electric\"),\n",
    "    Pokemon(\"Charmander\", \"Fire\"),\n",
    "    Pokemon(\"Bulbasaur\", \"Grass\"),\n",
    "    Pokemon(\"Squirtle\", \"Water\"),\n",
    "]\n",
    "\n",
    "# Game start\n",
    "print(\"Welcome to the Pokémon Training Game!\")\n",
    "print(\"Choose your Pokémon:\")\n",
    "\n",
    "# Display Pokémon choices\n",
    "for index, pokemon in enumerate(pokedex, start=1):\n",
    "    print(f\"{index}. {pokemon.name} ({pokemon.type})\")\n",
    "\n",
    "# Player chooses a Pokémon\n",
    "choice = int(input(\"Enter the number of your choice: \")) - 1\n",
    "player_pokemon = pokedex[choice]\n",
    "print(f\"You chose {player_pokemon.name}!\\n\")\n",
    "\n",
    "# Main game loop\n",
    "while True:\n",
    "    # Create a random opponent Pokémon\n",
    "    opponent = random.choice(pokedex)\n",
    "    while opponent == player_pokemon:\n",
    "        opponent = random.choice(pokedex)\n",
    "\n",
    "    # Start a battle\n",
    "    battle(player_pokemon, opponent)\n",
    "\n",
    "    # Check if player wants to continue\n",
    "    if player_pokemon.is_knocked_out():\n",
    "        print(\"Your Pokémon is knocked out! Game over.\")\n",
    "        break\n",
    "\n",
    "    continue_choice = input(\"Do you want to battle again? (yes/no): \").strip().lower()\n",
    "    if continue_choice != \"yes\":\n",
    "        print(\"Thanks for playing! See you next time!\")\n",
    "        break\n",
    "    else:\n",
    "        # Heal Pokémon before the next battle\n",
    "        player_pokemon.health = 100\n",
    "        print(f\"{player_pokemon.name} has been healed to full health!\\n\")\n"
   ]
  },
  {
   "cell_type": "code",
   "execution_count": null,
   "id": "1f20705f-9825-4db3-b706-b0ce475c1db6",
   "metadata": {},
   "outputs": [],
   "source": []
  }
 ],
 "metadata": {
  "kernelspec": {
   "display_name": "Python 3 (ipykernel)",
   "language": "python",
   "name": "python3"
  },
  "language_info": {
   "codemirror_mode": {
    "name": "ipython",
    "version": 3
   },
   "file_extension": ".py",
   "mimetype": "text/x-python",
   "name": "python",
   "nbconvert_exporter": "python",
   "pygments_lexer": "ipython3",
   "version": "3.12.4"
  }
 },
 "nbformat": 4,
 "nbformat_minor": 5
}
